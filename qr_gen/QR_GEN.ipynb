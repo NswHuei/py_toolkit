{
  "nbformat": 4,
  "nbformat_minor": 0,
  "metadata": {
    "colab": {
      "provenance": []
    },
    "kernelspec": {
      "name": "python3",
      "display_name": "Python 3"
    },
    "language_info": {
      "name": "python"
    }
  },
  "cells": [
    {
      "cell_type": "code",
      "execution_count": 3,
      "metadata": {
        "colab": {
          "base_uri": "https://localhost:8080/"
        },
        "id": "ffvnlgDgTHvO",
        "outputId": "462fc6e1-22e1-471f-f6de-4ce03a0d9ca5"
      },
      "outputs": [
        {
          "output_type": "stream",
          "name": "stdout",
          "text": [
            "Collecting qrcode[pil]\n",
            "  Downloading qrcode-8.1-py3-none-any.whl.metadata (17 kB)\n",
            "Requirement already satisfied: pillow>=9.1.0 in /usr/local/lib/python3.11/dist-packages (from qrcode[pil]) (11.1.0)\n",
            "Downloading qrcode-8.1-py3-none-any.whl (45 kB)\n",
            "\u001b[?25l   \u001b[90m━━━━━━━━━━━━━━━━━━━━━━━━━━━━━━━━━━━━━━━━\u001b[0m \u001b[32m0.0/45.7 kB\u001b[0m \u001b[31m?\u001b[0m eta \u001b[36m-:--:--\u001b[0m\r\u001b[2K   \u001b[90m━━━━━━━━━━━━━━━━━━━━━━━━━━━━━━━━━━━━━━━━\u001b[0m \u001b[32m45.7/45.7 kB\u001b[0m \u001b[31m2.4 MB/s\u001b[0m eta \u001b[36m0:00:00\u001b[0m\n",
            "\u001b[?25hInstalling collected packages: qrcode\n",
            "Successfully installed qrcode-8.1\n"
          ]
        }
      ],
      "source": [
        "!pip install qrcode[pil]"
      ]
    },
    {
      "cell_type": "code",
      "source": [
        "\n",
        "import qrcode\n",
        "from PIL import Image\n",
        "import matplotlib.pyplot as plt\n",
        "\n",
        "def generate_qr(data, filename=\"qr_code.png\", show=True, save=True):\n",
        "    \"\"\"\n",
        "    Generate a QR code from input data.\n",
        "\n",
        "    Parameters:\n",
        "    - data (str): The content to encode in the QR code.\n",
        "    - filename (str): File name to save the QR code image.\n",
        "    - show (bool): Whether to display the QR code image.\n",
        "    - save (bool): Whether to save the QR code image to file.\n",
        "    \"\"\"\n",
        "    # Create the QR code image\n",
        "    qr_img = qrcode.make(data)\n",
        "\n",
        "    # Show in notebook if requested\n",
        "    if show:\n",
        "        plt.imshow(qr_img, cmap=\"gray\")\n",
        "        plt.axis(\"off\")\n",
        "        plt.show()\n",
        "\n",
        "    # Save to file if requested\n",
        "    if save:\n",
        "        qr_img.save(filename)\n",
        "        print(f\"QR code saved as {filename}\")"
      ],
      "metadata": {
        "id": "h3bkGarSUq03"
      },
      "execution_count": 4,
      "outputs": []
    },
    {
      "cell_type": "code",
      "source": [
        "# Example usage\n",
        "generate_qr(\"www.google.es\", show=True, save=True )"
      ],
      "metadata": {
        "colab": {
          "base_uri": "https://localhost:8080/",
          "height": 424
        },
        "id": "6_TjNuVCUxks",
        "outputId": "dd04ef1c-b832-41a8-c34f-2256e710fbfe"
      },
      "execution_count": 6,
      "outputs": [
        {
          "output_type": "display_data",
          "data": {
            "text/plain": [
              "<Figure size 640x480 with 1 Axes>"
            ],
            "image/png": "[encoded data removed]"
          },
          "metadata": {}
        },
        {
          "output_type": "stream",
          "name": "stdout",
          "text": [
            "QR code saved as qr_code.png\n"
          ]
        }
      ]
    }
  ]
}